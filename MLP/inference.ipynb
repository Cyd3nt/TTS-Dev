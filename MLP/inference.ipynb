{
  "nbformat": 4,
  "nbformat_minor": 0,
  "metadata": {
    "colab": {
      "name": "inference.ipynb",
      "provenance": [],
      "collapsed_sections": []
    },
    "kernelspec": {
      "name": "python3",
      "display_name": "Python 3"
    },
    "language_info": {
      "name": "python"
    }
  },
  "cells": [
    {
      "cell_type": "code",
      "source": [
        "from google.colab import auth\n",
        "auth.authenticate_user()\n",
        "\n",
        "!gsutil cp gs://tts-voices-mlp/riva_api-2.3.0-py3-none-any.whl ."
      ],
      "metadata": {
        "colab": {
          "base_uri": "https://localhost:8080/"
        },
        "id": "7SR_OTmFZcgi",
        "outputId": "78f3bb3c-0824-4377-9f29-1e00c61cdb6c"
      },
      "execution_count": 3,
      "outputs": [
        {
          "output_type": "stream",
          "name": "stdout",
          "text": [
            "Copying gs://tts-voices-mlp/riva_api-2.3.0-py3-none-any.whl...\n",
            "/ [0 files][    0.0 B/ 16.5 KiB]                                                \r/ [1 files][ 16.5 KiB/ 16.5 KiB]                                                \r\n",
            "Operation completed over 1 objects/16.5 KiB.                                     \n"
          ]
        }
      ]
    },
    {
      "cell_type": "code",
      "source": [
        "!pip install riva_api-2.3.0-py3-none-any.whl"
      ],
      "metadata": {
        "colab": {
          "base_uri": "https://localhost:8080/"
        },
        "id": "DIgpBH-Hb7xR",
        "outputId": "92f59ced-ea5c-45bd-dbca-92aafd6ef187"
      },
      "execution_count": 4,
      "outputs": [
        {
          "output_type": "stream",
          "name": "stdout",
          "text": [
            "Looking in indexes: https://pypi.org/simple, https://us-python.pkg.dev/colab-wheels/public/simple/\n",
            "Processing ./riva_api-2.3.0-py3-none-any.whl\n",
            "Collecting grpcio-tools\n",
            "  Downloading grpcio_tools-1.47.0-cp37-cp37m-manylinux_2_17_x86_64.manylinux2014_x86_64.whl (2.4 MB)\n",
            "\u001b[K     |████████████████████████████████| 2.4 MB 5.1 MB/s \n",
            "\u001b[?25hRequirement already satisfied: setuptools in /usr/local/lib/python3.7/dist-packages (from grpcio-tools->riva-api==2.3.0) (57.4.0)\n",
            "Requirement already satisfied: protobuf<4.0dev,>=3.12.0 in /usr/local/lib/python3.7/dist-packages (from grpcio-tools->riva-api==2.3.0) (3.17.3)\n",
            "Requirement already satisfied: grpcio>=1.47.0 in /usr/local/lib/python3.7/dist-packages (from grpcio-tools->riva-api==2.3.0) (1.47.0)\n",
            "Requirement already satisfied: six>=1.5.2 in /usr/local/lib/python3.7/dist-packages (from grpcio>=1.47.0->grpcio-tools->riva-api==2.3.0) (1.15.0)\n",
            "Installing collected packages: grpcio-tools, riva-api\n",
            "Successfully installed grpcio-tools-1.47.0 riva-api-2.3.0\n"
          ]
        }
      ]
    },
    {
      "cell_type": "code",
      "execution_count": 5,
      "metadata": {
        "id": "lFbbXCkWZGHD"
      },
      "outputs": [],
      "source": [
        "import numpy as np\n",
        "import grpc\n",
        "import riva_api.riva_tts_pb2 as rtts\n",
        "import riva_api.riva_tts_pb2_grpc as rtts_srv\n",
        "import riva_api.riva_audio_pb2 as ra\n",
        "\n",
        "RIVA_SERVER = '34.125.24.74:50051'\n",
        "\n",
        "channel = grpc.insecure_channel(RIVA_SERVER)\n",
        "\n",
        "riva_tts = rtts_srv.RivaSpeechSynthesisStub(channel)\n",
        "\n",
        "def get_audio_from_text(text: str, voice: str) -> tuple:\n",
        "    text = text\n",
        "    req = rtts.SynthesizeSpeechRequest(\n",
        "        text=text,\n",
        "        language_code=\"en-US\",\n",
        "        encoding=ra.AudioEncoding.LINEAR_PCM,  # Currently only LINEAR_PCM is supported\n",
        "        sample_rate_hz=44100,  # Generate 44.1KHz audio\n",
        "        voice_name=voice,  # The name of the voice to generate\n",
        "    )\n",
        "\n",
        "    resp = riva_tts.Synthesize(req)\n",
        "    audio_samples = np.frombuffer(resp.audio, dtype=np.int16)\n",
        "    return audio_samples, req.sample_rate_hz"
      ]
    },
    {
      "cell_type": "code",
      "source": [
        "from scipy.io.wavfile import write"
      ],
      "metadata": {
        "id": "a_HBTewZfoVB"
      },
      "execution_count": 6,
      "outputs": []
    },
    {
      "cell_type": "code",
      "source": [
        "audio, sampleRate = get_audio_from_text(\"It’s not magic, it’s talent and sweat. People like me ensure your packets get delivered unsniffed Period.\",'Applejack')\n",
        "write(\"applejack.wav\", sampleRate, audio)"
      ],
      "metadata": {
        "id": "XB6J5My1fp-i"
      },
      "execution_count": 8,
      "outputs": []
    },
    {
      "cell_type": "code",
      "source": [
        "audio, sampleRate = get_audio_from_text(\"It’s not magic, it’s talent and sweat. People like me ensure your packets get delivered unsniffed Period.\",'Celestia')\n",
        "write(\"celestia.wav\", sampleRate, audio)"
      ],
      "metadata": {
        "id": "cSQnPHt7cMxY"
      },
      "execution_count": 9,
      "outputs": []
    },
    {
      "cell_type": "code",
      "source": [
        "audio, sampleRate = get_audio_from_text(\"It’s not magic, it’s talent and sweat. People like me ensure your packets get delivered unsniffed Period.\",'spike')\n",
        "write(\"spike.wav\", sampleRate, audio)"
      ],
      "metadata": {
        "id": "5vkH9aE1cSFD"
      },
      "execution_count": 10,
      "outputs": []
    },
    {
      "cell_type": "code",
      "source": [
        "audio, sampleRate = get_audio_from_text(\"It’s not magic, it’s talent and sweat. People like me ensure your packets get delivered unsniffed Period.\",'trixie')\n",
        "write(\"trixie.wav\", sampleRate, audio)"
      ],
      "metadata": {
        "id": "TbFQCfqkWqV4"
      },
      "execution_count": 11,
      "outputs": []
    },
    {
      "cell_type": "code",
      "source": [
        "audio, sampleRate = get_audio_from_text(\"It’s not magic, it’s talent and sweat. People like me ensure your packets get delivered unsniffed Period.\",'twilight_sparkle')\n",
        "write(\"twilight_sparkle.wav\", sampleRate, audio)"
      ],
      "metadata": {
        "id": "BoQB3WhbWq-6"
      },
      "execution_count": 12,
      "outputs": []
    },
    {
      "cell_type": "code",
      "source": [
        ""
      ],
      "metadata": {
        "id": "wjYJx0wZXOUL"
      },
      "execution_count": null,
      "outputs": []
    }
  ]
}